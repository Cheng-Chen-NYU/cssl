{
 "cells": [
  {
   "cell_type": "code",
   "execution_count": 33,
   "id": "powered-equilibrium",
   "metadata": {},
   "outputs": [],
   "source": [
    "import pandas as pd\n",
    "import matplotlib.pyplot as plt"
   ]
  },
  {
   "cell_type": "code",
   "execution_count": 34,
   "id": "pacific-brook",
   "metadata": {},
   "outputs": [],
   "source": [
    "def plot(a, title):\n",
    "    plt.plot(a.epoch, a['test_acc@1']/100., '-', linewidth=2, label='test acc@1')\n",
    "    plt.plot(a.epoch, a['test_acc@5']/100., '-', linewidth=2, label='test acc@5')\n",
    "    plt.title(title)\n",
    "    plt.ylim(-0.05, 1.05)\n",
    "    plt.xlabel('epoch')\n",
    "    plt.ylabel('accuracy')\n",
    "    plt.grid(True)\n",
    "    plt.legend(loc='best')"
   ]
  },
  {
   "cell_type": "code",
   "execution_count": 35,
   "id": "possible-prevention",
   "metadata": {},
   "outputs": [],
   "source": [
    "a1 = pd.read_csv('train_log/log_1.csv')\n",
    "a2 = pd.read_csv('train_log/log_2.csv')\n",
    "a3 = pd.read_csv('train_log/log_3.csv')"
   ]
  },
  {
   "cell_type": "code",
   "execution_count": 36,
   "id": "atomic-northern",
   "metadata": {},
   "outputs": [],
   "source": [
    "s1 = pd.concat([a1, a2, a3], ignore_index=True)"
   ]
  },
  {
   "cell_type": "code",
   "execution_count": 37,
   "id": "featured-character",
   "metadata": {},
   "outputs": [
    {
     "data": {
      "text/html": [
       "<div>\n",
       "<style scoped>\n",
       "    .dataframe tbody tr th:only-of-type {\n",
       "        vertical-align: middle;\n",
       "    }\n",
       "\n",
       "    .dataframe tbody tr th {\n",
       "        vertical-align: top;\n",
       "    }\n",
       "\n",
       "    .dataframe thead th {\n",
       "        text-align: right;\n",
       "    }\n",
       "</style>\n",
       "<table border=\"1\" class=\"dataframe\">\n",
       "  <thead>\n",
       "    <tr style=\"text-align: right;\">\n",
       "      <th></th>\n",
       "      <th>epoch</th>\n",
       "      <th>train_loss</th>\n",
       "      <th>test_acc@1</th>\n",
       "      <th>test_acc@5</th>\n",
       "    </tr>\n",
       "  </thead>\n",
       "  <tbody>\n",
       "    <tr>\n",
       "      <th>0</th>\n",
       "      <td>1</td>\n",
       "      <td>5.560843</td>\n",
       "      <td>41.35</td>\n",
       "      <td>89.28</td>\n",
       "    </tr>\n",
       "    <tr>\n",
       "      <th>1</th>\n",
       "      <td>2</td>\n",
       "      <td>5.271824</td>\n",
       "      <td>44.35</td>\n",
       "      <td>91.31</td>\n",
       "    </tr>\n",
       "    <tr>\n",
       "      <th>2</th>\n",
       "      <td>3</td>\n",
       "      <td>5.154015</td>\n",
       "      <td>45.91</td>\n",
       "      <td>92.42</td>\n",
       "    </tr>\n",
       "    <tr>\n",
       "      <th>3</th>\n",
       "      <td>4</td>\n",
       "      <td>5.085800</td>\n",
       "      <td>49.76</td>\n",
       "      <td>93.54</td>\n",
       "    </tr>\n",
       "    <tr>\n",
       "      <th>4</th>\n",
       "      <td>5</td>\n",
       "      <td>5.040000</td>\n",
       "      <td>52.40</td>\n",
       "      <td>94.69</td>\n",
       "    </tr>\n",
       "    <tr>\n",
       "      <th>...</th>\n",
       "      <td>...</td>\n",
       "      <td>...</td>\n",
       "      <td>...</td>\n",
       "      <td>...</td>\n",
       "    </tr>\n",
       "    <tr>\n",
       "      <th>195</th>\n",
       "      <td>196</td>\n",
       "      <td>4.643609</td>\n",
       "      <td>83.44</td>\n",
       "      <td>99.21</td>\n",
       "    </tr>\n",
       "    <tr>\n",
       "      <th>196</th>\n",
       "      <td>197</td>\n",
       "      <td>4.642834</td>\n",
       "      <td>83.34</td>\n",
       "      <td>99.30</td>\n",
       "    </tr>\n",
       "    <tr>\n",
       "      <th>197</th>\n",
       "      <td>198</td>\n",
       "      <td>4.644729</td>\n",
       "      <td>84.05</td>\n",
       "      <td>99.37</td>\n",
       "    </tr>\n",
       "    <tr>\n",
       "      <th>198</th>\n",
       "      <td>199</td>\n",
       "      <td>4.641742</td>\n",
       "      <td>83.38</td>\n",
       "      <td>99.32</td>\n",
       "    </tr>\n",
       "    <tr>\n",
       "      <th>199</th>\n",
       "      <td>200</td>\n",
       "      <td>4.643370</td>\n",
       "      <td>84.06</td>\n",
       "      <td>99.44</td>\n",
       "    </tr>\n",
       "  </tbody>\n",
       "</table>\n",
       "<p>200 rows × 4 columns</p>\n",
       "</div>"
      ],
      "text/plain": [
       "     epoch  train_loss  test_acc@1  test_acc@5\n",
       "0        1    5.560843       41.35       89.28\n",
       "1        2    5.271824       44.35       91.31\n",
       "2        3    5.154015       45.91       92.42\n",
       "3        4    5.085800       49.76       93.54\n",
       "4        5    5.040000       52.40       94.69\n",
       "..     ...         ...         ...         ...\n",
       "195    196    4.643609       83.44       99.21\n",
       "196    197    4.642834       83.34       99.30\n",
       "197    198    4.644729       84.05       99.37\n",
       "198    199    4.641742       83.38       99.32\n",
       "199    200    4.643370       84.06       99.44\n",
       "\n",
       "[200 rows x 4 columns]"
      ]
     },
     "execution_count": 37,
     "metadata": {},
     "output_type": "execute_result"
    }
   ],
   "source": [
    "s1"
   ]
  },
  {
   "cell_type": "code",
   "execution_count": 39,
   "id": "artistic-minneapolis",
   "metadata": {},
   "outputs": [
    {
     "data": {
      "image/png": "[encoded data removed]",
      "text/plain": [
       "<Figure size 432x288 with 1 Axes>"
      ]
     },
     "metadata": {
      "needs_background": "light"
     },
     "output_type": "display_data"
    }
   ],
   "source": [
    "# 84.06 / 99.44\n",
    "plot(s1, 'SimCLRv1-512-resnet50')"
   ]
  },
  {
   "cell_type": "code",
   "execution_count": 40,
   "id": "elder-effects",
   "metadata": {},
   "outputs": [],
   "source": [
    "m1 = pd.read_csv('train_log/cache-2021-05-02-03-41-07-mocov1/log.csv')"
   ]
  },
  {
   "cell_type": "code",
   "execution_count": 41,
   "id": "conservative-ground",
   "metadata": {},
   "outputs": [
    {
     "data": {
      "text/html": [
       "<div>\n",
       "<style scoped>\n",
       "    .dataframe tbody tr th:only-of-type {\n",
       "        vertical-align: middle;\n",
       "    }\n",
       "\n",
       "    .dataframe tbody tr th {\n",
       "        vertical-align: top;\n",
       "    }\n",
       "\n",
       "    .dataframe thead th {\n",
       "        text-align: right;\n",
       "    }\n",
       "</style>\n",
       "<table border=\"1\" class=\"dataframe\">\n",
       "  <thead>\n",
       "    <tr style=\"text-align: right;\">\n",
       "      <th></th>\n",
       "      <th>epoch</th>\n",
       "      <th>train_loss</th>\n",
       "      <th>test_acc@1</th>\n",
       "      <th>test_acc@5</th>\n",
       "    </tr>\n",
       "  </thead>\n",
       "  <tbody>\n",
       "    <tr>\n",
       "      <th>0</th>\n",
       "      <td>1</td>\n",
       "      <td>6.819138</td>\n",
       "      <td>30.02</td>\n",
       "      <td>84.77</td>\n",
       "    </tr>\n",
       "    <tr>\n",
       "      <th>1</th>\n",
       "      <td>2</td>\n",
       "      <td>7.112372</td>\n",
       "      <td>32.33</td>\n",
       "      <td>85.57</td>\n",
       "    </tr>\n",
       "    <tr>\n",
       "      <th>2</th>\n",
       "      <td>3</td>\n",
       "      <td>7.149874</td>\n",
       "      <td>34.89</td>\n",
       "      <td>86.75</td>\n",
       "    </tr>\n",
       "    <tr>\n",
       "      <th>3</th>\n",
       "      <td>4</td>\n",
       "      <td>6.958213</td>\n",
       "      <td>38.03</td>\n",
       "      <td>88.31</td>\n",
       "    </tr>\n",
       "    <tr>\n",
       "      <th>4</th>\n",
       "      <td>5</td>\n",
       "      <td>6.742848</td>\n",
       "      <td>39.87</td>\n",
       "      <td>89.66</td>\n",
       "    </tr>\n",
       "    <tr>\n",
       "      <th>...</th>\n",
       "      <td>...</td>\n",
       "      <td>...</td>\n",
       "      <td>...</td>\n",
       "      <td>...</td>\n",
       "    </tr>\n",
       "    <tr>\n",
       "      <th>195</th>\n",
       "      <td>196</td>\n",
       "      <td>2.271053</td>\n",
       "      <td>82.66</td>\n",
       "      <td>99.17</td>\n",
       "    </tr>\n",
       "    <tr>\n",
       "      <th>196</th>\n",
       "      <td>197</td>\n",
       "      <td>2.267408</td>\n",
       "      <td>82.68</td>\n",
       "      <td>99.20</td>\n",
       "    </tr>\n",
       "    <tr>\n",
       "      <th>197</th>\n",
       "      <td>198</td>\n",
       "      <td>2.260003</td>\n",
       "      <td>82.66</td>\n",
       "      <td>99.19</td>\n",
       "    </tr>\n",
       "    <tr>\n",
       "      <th>198</th>\n",
       "      <td>199</td>\n",
       "      <td>2.260120</td>\n",
       "      <td>82.66</td>\n",
       "      <td>99.19</td>\n",
       "    </tr>\n",
       "    <tr>\n",
       "      <th>199</th>\n",
       "      <td>200</td>\n",
       "      <td>2.261511</td>\n",
       "      <td>82.68</td>\n",
       "      <td>99.20</td>\n",
       "    </tr>\n",
       "  </tbody>\n",
       "</table>\n",
       "<p>200 rows × 4 columns</p>\n",
       "</div>"
      ],
      "text/plain": [
       "     epoch  train_loss  test_acc@1  test_acc@5\n",
       "0        1    6.819138       30.02       84.77\n",
       "1        2    7.112372       32.33       85.57\n",
       "2        3    7.149874       34.89       86.75\n",
       "3        4    6.958213       38.03       88.31\n",
       "4        5    6.742848       39.87       89.66\n",
       "..     ...         ...         ...         ...\n",
       "195    196    2.271053       82.66       99.17\n",
       "196    197    2.267408       82.68       99.20\n",
       "197    198    2.260003       82.66       99.19\n",
       "198    199    2.260120       82.66       99.19\n",
       "199    200    2.261511       82.68       99.20\n",
       "\n",
       "[200 rows x 4 columns]"
      ]
     },
     "execution_count": 41,
     "metadata": {},
     "output_type": "execute_result"
    }
   ],
   "source": [
    "m1"
   ]
  },
  {
   "cell_type": "code",
   "execution_count": 42,
   "id": "contemporary-plate",
   "metadata": {},
   "outputs": [
    {
     "data": {
      "image/png": "[encoded data removed]",
      "text/plain": [
       "<Figure size 432x288 with 1 Axes>"
      ]
     },
     "metadata": {
      "needs_background": "light"
     },
     "output_type": "display_data"
    }
   ],
   "source": [
    "# 82.68 / 99.20\n",
    "plot(m1, 'MoCov1-512-resnet18')"
   ]
  }
 ],
 "metadata": {
  "kernelspec": {
   "display_name": "Python 3",
   "language": "python",
   "name": "python3"
  },
  "language_info": {
   "codemirror_mode": {
    "name": "ipython",
    "version": 3
   },
   "file_extension": ".py",
   "mimetype": "text/x-python",
   "name": "python",
   "nbconvert_exporter": "python",
   "pygments_lexer": "ipython3",
   "version": "3.8.5"
  }
 },
 "nbformat": 4,
 "nbformat_minor": 5
}
