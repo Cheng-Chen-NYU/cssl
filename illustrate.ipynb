{
 "cells": [
  {
   "cell_type": "code",
   "execution_count": 33,
   "id": "comparative-ordinary",
   "metadata": {},
   "outputs": [],
   "source": [
    "import pandas as pd\n",
    "import matplotlib.pyplot as plt"
   ]
  },
  {
   "cell_type": "code",
   "execution_count": 34,
   "id": "motivated-works",
   "metadata": {},
   "outputs": [],
   "source": [
    "def plot(a, title):\n",
    "    plt.plot(a.epoch, a['test_acc@1']/100., '-', linewidth=2, label='test acc@1')\n",
    "    plt.plot(a.epoch, a['test_acc@5']/100., '-', linewidth=2, label='test acc@5')\n",
    "    plt.title(title)\n",
    "    plt.ylim(-0.05, 1.05)\n",
    "    plt.xlabel('epoch')\n",
    "    plt.ylabel('accuracy')\n",
    "    plt.grid(True)\n",
    "    plt.legend(loc='best')"
   ]
  },
  {
   "cell_type": "code",
   "execution_count": 35,
   "id": "fewer-corps",
   "metadata": {},
   "outputs": [],
   "source": [
    "a1 = pd.read_csv('train_log/log_1.csv')\n",
    "a2 = pd.read_csv('train_log/log_2.csv')\n",
    "a3 = pd.read_csv('train_log/log_3.csv')"
   ]
  },
  {
   "cell_type": "code",
   "execution_count": 36,
   "id": "victorian-american",
   "metadata": {},
   "outputs": [],
   "source": [
    "s1 = pd.concat([a1, a2, a3], ignore_index=True)"
   ]
  },
  {
   "cell_type": "code",
   "execution_count": 73,
   "id": "given-tsunami",
   "metadata": {},
   "outputs": [
    {
     "data": {
      "text/html": [
       "<div>\n",
       "<style scoped>\n",
       "    .dataframe tbody tr th:only-of-type {\n",
       "        vertical-align: middle;\n",
       "    }\n",
       "\n",
       "    .dataframe tbody tr th {\n",
       "        vertical-align: top;\n",
       "    }\n",
       "\n",
       "    .dataframe thead th {\n",
       "        text-align: right;\n",
       "    }\n",
       "</style>\n",
       "<table border=\"1\" class=\"dataframe\">\n",
       "  <thead>\n",
       "    <tr style=\"text-align: right;\">\n",
       "      <th></th>\n",
       "      <th>epoch</th>\n",
       "      <th>train_loss</th>\n",
       "      <th>test_acc@1</th>\n",
       "      <th>test_acc@5</th>\n",
       "    </tr>\n",
       "  </thead>\n",
       "  <tbody>\n",
       "    <tr>\n",
       "      <th>0</th>\n",
       "      <td>1</td>\n",
       "      <td>5.560843</td>\n",
       "      <td>41.35</td>\n",
       "      <td>89.28</td>\n",
       "    </tr>\n",
       "    <tr>\n",
       "      <th>1</th>\n",
       "      <td>2</td>\n",
       "      <td>5.271824</td>\n",
       "      <td>44.35</td>\n",
       "      <td>91.31</td>\n",
       "    </tr>\n",
       "    <tr>\n",
       "      <th>2</th>\n",
       "      <td>3</td>\n",
       "      <td>5.154015</td>\n",
       "      <td>45.91</td>\n",
       "      <td>92.42</td>\n",
       "    </tr>\n",
       "    <tr>\n",
       "      <th>3</th>\n",
       "      <td>4</td>\n",
       "      <td>5.085800</td>\n",
       "      <td>49.76</td>\n",
       "      <td>93.54</td>\n",
       "    </tr>\n",
       "    <tr>\n",
       "      <th>4</th>\n",
       "      <td>5</td>\n",
       "      <td>5.040000</td>\n",
       "      <td>52.40</td>\n",
       "      <td>94.69</td>\n",
       "    </tr>\n",
       "    <tr>\n",
       "      <th>...</th>\n",
       "      <td>...</td>\n",
       "      <td>...</td>\n",
       "      <td>...</td>\n",
       "      <td>...</td>\n",
       "    </tr>\n",
       "    <tr>\n",
       "      <th>195</th>\n",
       "      <td>196</td>\n",
       "      <td>4.643609</td>\n",
       "      <td>83.44</td>\n",
       "      <td>99.21</td>\n",
       "    </tr>\n",
       "    <tr>\n",
       "      <th>196</th>\n",
       "      <td>197</td>\n",
       "      <td>4.642834</td>\n",
       "      <td>83.34</td>\n",
       "      <td>99.30</td>\n",
       "    </tr>\n",
       "    <tr>\n",
       "      <th>197</th>\n",
       "      <td>198</td>\n",
       "      <td>4.644729</td>\n",
       "      <td>84.05</td>\n",
       "      <td>99.37</td>\n",
       "    </tr>\n",
       "    <tr>\n",
       "      <th>198</th>\n",
       "      <td>199</td>\n",
       "      <td>4.641742</td>\n",
       "      <td>83.38</td>\n",
       "      <td>99.32</td>\n",
       "    </tr>\n",
       "    <tr>\n",
       "      <th>199</th>\n",
       "      <td>200</td>\n",
       "      <td>4.643370</td>\n",
       "      <td>84.06</td>\n",
       "      <td>99.44</td>\n",
       "    </tr>\n",
       "  </tbody>\n",
       "</table>\n",
       "<p>200 rows × 4 columns</p>\n",
       "</div>"
      ],
      "text/plain": [
       "     epoch  train_loss  test_acc@1  test_acc@5\n",
       "0        1    5.560843       41.35       89.28\n",
       "1        2    5.271824       44.35       91.31\n",
       "2        3    5.154015       45.91       92.42\n",
       "3        4    5.085800       49.76       93.54\n",
       "4        5    5.040000       52.40       94.69\n",
       "..     ...         ...         ...         ...\n",
       "195    196    4.643609       83.44       99.21\n",
       "196    197    4.642834       83.34       99.30\n",
       "197    198    4.644729       84.05       99.37\n",
       "198    199    4.641742       83.38       99.32\n",
       "199    200    4.643370       84.06       99.44\n",
       "\n",
       "[200 rows x 4 columns]"
      ]
     },
     "execution_count": 73,
     "metadata": {},
     "output_type": "execute_result"
    }
   ],
   "source": [
    "s1"
   ]
  },
  {
   "cell_type": "code",
   "execution_count": 43,
   "id": "multiple-faculty",
   "metadata": {},
   "outputs": [
    {
     "data": {
      "image/png": "[encoded data removed]",
      "text/plain": [
       "<Figure size 432x288 with 1 Axes>"
      ]
     },
     "metadata": {
      "needs_background": "light"
     },
     "output_type": "display_data"
    }
   ],
   "source": [
    "# 84.06 / 99.44\n",
    "# 2048 --> 512 --> 128\n",
    "plot(s1, 'SimCLRv1-256-resnet50')"
   ]
  },
  {
   "cell_type": "code",
   "execution_count": 40,
   "id": "thirty-henry",
   "metadata": {},
   "outputs": [],
   "source": [
    "m1 = pd.read_csv('train_log/cache-2021-05-02-03-41-07-mocov1/log.csv')"
   ]
  },
  {
   "cell_type": "code",
   "execution_count": 65,
   "id": "metallic-adobe",
   "metadata": {},
   "outputs": [
    {
     "data": {
      "text/html": [
       "<div>\n",
       "<style scoped>\n",
       "    .dataframe tbody tr th:only-of-type {\n",
       "        vertical-align: middle;\n",
       "    }\n",
       "\n",
       "    .dataframe tbody tr th {\n",
       "        vertical-align: top;\n",
       "    }\n",
       "\n",
       "    .dataframe thead th {\n",
       "        text-align: right;\n",
       "    }\n",
       "</style>\n",
       "<table border=\"1\" class=\"dataframe\">\n",
       "  <thead>\n",
       "    <tr style=\"text-align: right;\">\n",
       "      <th></th>\n",
       "      <th>epoch</th>\n",
       "      <th>train_loss</th>\n",
       "      <th>test_acc@1</th>\n",
       "      <th>test_acc@5</th>\n",
       "    </tr>\n",
       "  </thead>\n",
       "  <tbody>\n",
       "    <tr>\n",
       "      <th>0</th>\n",
       "      <td>1</td>\n",
       "      <td>6.819138</td>\n",
       "      <td>30.02</td>\n",
       "      <td>84.77</td>\n",
       "    </tr>\n",
       "    <tr>\n",
       "      <th>1</th>\n",
       "      <td>2</td>\n",
       "      <td>7.112372</td>\n",
       "      <td>32.33</td>\n",
       "      <td>85.57</td>\n",
       "    </tr>\n",
       "    <tr>\n",
       "      <th>2</th>\n",
       "      <td>3</td>\n",
       "      <td>7.149874</td>\n",
       "      <td>34.89</td>\n",
       "      <td>86.75</td>\n",
       "    </tr>\n",
       "    <tr>\n",
       "      <th>3</th>\n",
       "      <td>4</td>\n",
       "      <td>6.958213</td>\n",
       "      <td>38.03</td>\n",
       "      <td>88.31</td>\n",
       "    </tr>\n",
       "    <tr>\n",
       "      <th>4</th>\n",
       "      <td>5</td>\n",
       "      <td>6.742848</td>\n",
       "      <td>39.87</td>\n",
       "      <td>89.66</td>\n",
       "    </tr>\n",
       "    <tr>\n",
       "      <th>...</th>\n",
       "      <td>...</td>\n",
       "      <td>...</td>\n",
       "      <td>...</td>\n",
       "      <td>...</td>\n",
       "    </tr>\n",
       "    <tr>\n",
       "      <th>195</th>\n",
       "      <td>196</td>\n",
       "      <td>2.271053</td>\n",
       "      <td>82.66</td>\n",
       "      <td>99.17</td>\n",
       "    </tr>\n",
       "    <tr>\n",
       "      <th>196</th>\n",
       "      <td>197</td>\n",
       "      <td>2.267408</td>\n",
       "      <td>82.68</td>\n",
       "      <td>99.20</td>\n",
       "    </tr>\n",
       "    <tr>\n",
       "      <th>197</th>\n",
       "      <td>198</td>\n",
       "      <td>2.260003</td>\n",
       "      <td>82.66</td>\n",
       "      <td>99.19</td>\n",
       "    </tr>\n",
       "    <tr>\n",
       "      <th>198</th>\n",
       "      <td>199</td>\n",
       "      <td>2.260120</td>\n",
       "      <td>82.66</td>\n",
       "      <td>99.19</td>\n",
       "    </tr>\n",
       "    <tr>\n",
       "      <th>199</th>\n",
       "      <td>200</td>\n",
       "      <td>2.261511</td>\n",
       "      <td>82.68</td>\n",
       "      <td>99.20</td>\n",
       "    </tr>\n",
       "  </tbody>\n",
       "</table>\n",
       "<p>200 rows × 4 columns</p>\n",
       "</div>"
      ],
      "text/plain": [
       "     epoch  train_loss  test_acc@1  test_acc@5\n",
       "0        1    6.819138       30.02       84.77\n",
       "1        2    7.112372       32.33       85.57\n",
       "2        3    7.149874       34.89       86.75\n",
       "3        4    6.958213       38.03       88.31\n",
       "4        5    6.742848       39.87       89.66\n",
       "..     ...         ...         ...         ...\n",
       "195    196    2.271053       82.66       99.17\n",
       "196    197    2.267408       82.68       99.20\n",
       "197    198    2.260003       82.66       99.19\n",
       "198    199    2.260120       82.66       99.19\n",
       "199    200    2.261511       82.68       99.20\n",
       "\n",
       "[200 rows x 4 columns]"
      ]
     },
     "execution_count": 65,
     "metadata": {},
     "output_type": "execute_result"
    }
   ],
   "source": [
    "m1"
   ]
  },
  {
   "cell_type": "code",
   "execution_count": 42,
   "id": "extraordinary-observation",
   "metadata": {},
   "outputs": [
    {
     "data": {
      "image/png": "[encoded data removed]",
      "text/plain": [
       "<Figure size 432x288 with 1 Axes>"
      ]
     },
     "metadata": {
      "needs_background": "light"
     },
     "output_type": "display_data"
    }
   ],
   "source": [
    "# 192: 82.76 / 99.19\n",
    "# 200: 82.68 / 99.20\n",
    "plot(m1, 'MoCov1-512-resnet18')"
   ]
  },
  {
   "cell_type": "code",
   "execution_count": 44,
   "id": "ecological-adaptation",
   "metadata": {},
   "outputs": [
    {
     "data": {
      "text/plain": [
       "{'model_name': 'simclrv2',\n",
       " 'epochs': 500,\n",
       " 'batch_size': 512,\n",
       " 'learning_rate': 0.001,\n",
       " 'momentum': 0.9,\n",
       " 'weight_decay': 1e-06,\n",
       " 'arch': 'resnet50',\n",
       " 'temperature': 0.5,\n",
       " 'k': 200,\n",
       " 'dataset_dir': 'data/',\n",
       " 'log_dir': 'train_log/',\n",
       " 'results_dir': '/cache-2021-05-02-09-19-52-simclrv2',\n",
       " 'resume_path': ''}"
      ]
     },
     "execution_count": 44,
     "metadata": {},
     "output_type": "execute_result"
    }
   ],
   "source": [
    "{\"model_name\": \"simclrv2\",\n",
    " \"epochs\": 500,\n",
    " \"batch_size\": 512,\n",
    " \"learning_rate\": 0.001,\n",
    " \"momentum\": 0.9,\n",
    " \"weight_decay\": 1e-06,\n",
    " \"arch\": \"resnet50\",\n",
    " \"temperature\": 0.5,\n",
    " \"k\": 200, \n",
    " \"dataset_dir\": \"data/\",\n",
    " \"log_dir\": \"train_log/\",\n",
    " \"results_dir\": \"/cache-2021-05-02-09-19-52-simclrv2\",\n",
    " \"resume_path\": \"\"}"
   ]
  },
  {
   "cell_type": "code",
   "execution_count": 55,
   "id": "congressional-sphere",
   "metadata": {},
   "outputs": [],
   "source": [
    "# \n",
    "# 2048 --> 1024 --> 512 --> 128\n",
    "b1 = pd.read_csv('train_log/simclrv2_512_500ep/log_1.csv')\n",
    "b2 = pd.read_csv('train_log/simclrv2_512_500ep/log_2.csv')\n",
    "b3 = pd.read_csv('train_log/simclrv2_512_500ep/log_3.csv')"
   ]
  },
  {
   "cell_type": "code",
   "execution_count": 56,
   "id": "divine-recording",
   "metadata": {},
   "outputs": [],
   "source": [
    "s2 = pd.concat([b1, b2, b3], ignore_index=True)"
   ]
  },
  {
   "cell_type": "code",
   "execution_count": 79,
   "id": "casual-spirit",
   "metadata": {},
   "outputs": [
    {
     "data": {
      "text/html": [
       "<div>\n",
       "<style scoped>\n",
       "    .dataframe tbody tr th:only-of-type {\n",
       "        vertical-align: middle;\n",
       "    }\n",
       "\n",
       "    .dataframe tbody tr th {\n",
       "        vertical-align: top;\n",
       "    }\n",
       "\n",
       "    .dataframe thead th {\n",
       "        text-align: right;\n",
       "    }\n",
       "</style>\n",
       "<table border=\"1\" class=\"dataframe\">\n",
       "  <thead>\n",
       "    <tr style=\"text-align: right;\">\n",
       "      <th></th>\n",
       "      <th>epoch</th>\n",
       "      <th>train_loss</th>\n",
       "      <th>test_acc@1</th>\n",
       "      <th>test_acc@5</th>\n",
       "    </tr>\n",
       "  </thead>\n",
       "  <tbody>\n",
       "    <tr>\n",
       "      <th>0</th>\n",
       "      <td>1</td>\n",
       "      <td>6.400881</td>\n",
       "      <td>37.08</td>\n",
       "      <td>86.65</td>\n",
       "    </tr>\n",
       "    <tr>\n",
       "      <th>1</th>\n",
       "      <td>2</td>\n",
       "      <td>6.094459</td>\n",
       "      <td>41.57</td>\n",
       "      <td>90.35</td>\n",
       "    </tr>\n",
       "    <tr>\n",
       "      <th>2</th>\n",
       "      <td>3</td>\n",
       "      <td>5.974942</td>\n",
       "      <td>43.55</td>\n",
       "      <td>90.53</td>\n",
       "    </tr>\n",
       "    <tr>\n",
       "      <th>3</th>\n",
       "      <td>4</td>\n",
       "      <td>5.885439</td>\n",
       "      <td>46.23</td>\n",
       "      <td>91.83</td>\n",
       "    </tr>\n",
       "    <tr>\n",
       "      <th>4</th>\n",
       "      <td>5</td>\n",
       "      <td>5.832059</td>\n",
       "      <td>48.12</td>\n",
       "      <td>92.89</td>\n",
       "    </tr>\n",
       "    <tr>\n",
       "      <th>...</th>\n",
       "      <td>...</td>\n",
       "      <td>...</td>\n",
       "      <td>...</td>\n",
       "      <td>...</td>\n",
       "    </tr>\n",
       "    <tr>\n",
       "      <th>497</th>\n",
       "      <td>496</td>\n",
       "      <td>5.275988</td>\n",
       "      <td>86.38</td>\n",
       "      <td>99.47</td>\n",
       "    </tr>\n",
       "    <tr>\n",
       "      <th>498</th>\n",
       "      <td>497</td>\n",
       "      <td>5.278142</td>\n",
       "      <td>86.70</td>\n",
       "      <td>99.53</td>\n",
       "    </tr>\n",
       "    <tr>\n",
       "      <th>499</th>\n",
       "      <td>498</td>\n",
       "      <td>5.276336</td>\n",
       "      <td>86.98</td>\n",
       "      <td>99.58</td>\n",
       "    </tr>\n",
       "    <tr>\n",
       "      <th>500</th>\n",
       "      <td>499</td>\n",
       "      <td>5.276495</td>\n",
       "      <td>87.11</td>\n",
       "      <td>99.59</td>\n",
       "    </tr>\n",
       "    <tr>\n",
       "      <th>501</th>\n",
       "      <td>500</td>\n",
       "      <td>5.277623</td>\n",
       "      <td>87.19</td>\n",
       "      <td>99.63</td>\n",
       "    </tr>\n",
       "  </tbody>\n",
       "</table>\n",
       "<p>502 rows × 4 columns</p>\n",
       "</div>"
      ],
      "text/plain": [
       "     epoch  train_loss  test_acc@1  test_acc@5\n",
       "0        1    6.400881       37.08       86.65\n",
       "1        2    6.094459       41.57       90.35\n",
       "2        3    5.974942       43.55       90.53\n",
       "3        4    5.885439       46.23       91.83\n",
       "4        5    5.832059       48.12       92.89\n",
       "..     ...         ...         ...         ...\n",
       "497    496    5.275988       86.38       99.47\n",
       "498    497    5.278142       86.70       99.53\n",
       "499    498    5.276336       86.98       99.58\n",
       "500    499    5.276495       87.11       99.59\n",
       "501    500    5.277623       87.19       99.63\n",
       "\n",
       "[502 rows x 4 columns]"
      ]
     },
     "execution_count": 79,
     "metadata": {},
     "output_type": "execute_result"
    }
   ],
   "source": [
    "s2"
   ]
  },
  {
   "cell_type": "code",
   "execution_count": 64,
   "id": "dimensional-repository",
   "metadata": {},
   "outputs": [
    {
     "data": {
      "image/png": "[encoded data removed]",
      "text/plain": [
       "<Figure size 432x288 with 1 Axes>"
      ]
     },
     "metadata": {
      "needs_background": "light"
     },
     "output_type": "display_data"
    }
   ],
   "source": [
    "# 464: 87.43 / 99.62\n",
    "# 500: 87.19 / 99.63\n",
    "# 2048 --> 1024 --> 512 --> 128\n",
    "plot(s2, 'SimCLRv2-L3-512-resnet50')"
   ]
  },
  {
   "cell_type": "code",
   "execution_count": 81,
   "id": "spoken-circle",
   "metadata": {},
   "outputs": [
    {
     "data": {
      "image/png": "[encoded data removed]",
      "text/plain": [
       "<Figure size 432x288 with 1 Axes>"
      ]
     },
     "metadata": {
      "needs_background": "light"
     },
     "output_type": "display_data"
    }
   ],
   "source": [
    "x = pd.read_csv('train_log/simclrv1_512_500ep/log_1.csv')\n",
    "y = pd.read_csv('train_log/simclrv1_512_500ep/log_2.csv')\n",
    "z = pd.read_csv('train_log/simclrv1_512_500ep/log_3.csv')\n",
    "\n",
    "# 500\n",
    "# 2048 --> 512 --> 128\n",
    "plot(pd.concat([x, y, z], ignore_index=True), 'SimCLRv1-L2-512-resnet50')"
   ]
  },
  {
   "cell_type": "code",
   "execution_count": 82,
   "id": "abandoned-trader",
   "metadata": {},
   "outputs": [
    {
     "data": {
      "text/html": [
       "<div>\n",
       "<style scoped>\n",
       "    .dataframe tbody tr th:only-of-type {\n",
       "        vertical-align: middle;\n",
       "    }\n",
       "\n",
       "    .dataframe tbody tr th {\n",
       "        vertical-align: top;\n",
       "    }\n",
       "\n",
       "    .dataframe thead th {\n",
       "        text-align: right;\n",
       "    }\n",
       "</style>\n",
       "<table border=\"1\" class=\"dataframe\">\n",
       "  <thead>\n",
       "    <tr style=\"text-align: right;\">\n",
       "      <th></th>\n",
       "      <th>epoch</th>\n",
       "      <th>train_loss</th>\n",
       "      <th>test_acc@1</th>\n",
       "      <th>test_acc@5</th>\n",
       "    </tr>\n",
       "  </thead>\n",
       "  <tbody>\n",
       "    <tr>\n",
       "      <th>0</th>\n",
       "      <td>1</td>\n",
       "      <td>6.307760</td>\n",
       "      <td>39.39</td>\n",
       "      <td>88.54</td>\n",
       "    </tr>\n",
       "    <tr>\n",
       "      <th>1</th>\n",
       "      <td>2</td>\n",
       "      <td>5.996507</td>\n",
       "      <td>42.90</td>\n",
       "      <td>90.85</td>\n",
       "    </tr>\n",
       "    <tr>\n",
       "      <th>2</th>\n",
       "      <td>3</td>\n",
       "      <td>5.888399</td>\n",
       "      <td>45.22</td>\n",
       "      <td>91.65</td>\n",
       "    </tr>\n",
       "    <tr>\n",
       "      <th>3</th>\n",
       "      <td>4</td>\n",
       "      <td>5.818645</td>\n",
       "      <td>49.18</td>\n",
       "      <td>93.32</td>\n",
       "    </tr>\n",
       "    <tr>\n",
       "      <th>4</th>\n",
       "      <td>5</td>\n",
       "      <td>5.765002</td>\n",
       "      <td>51.01</td>\n",
       "      <td>93.87</td>\n",
       "    </tr>\n",
       "    <tr>\n",
       "      <th>...</th>\n",
       "      <td>...</td>\n",
       "      <td>...</td>\n",
       "      <td>...</td>\n",
       "      <td>...</td>\n",
       "    </tr>\n",
       "    <tr>\n",
       "      <th>498</th>\n",
       "      <td>496</td>\n",
       "      <td>5.276565</td>\n",
       "      <td>88.07</td>\n",
       "      <td>99.56</td>\n",
       "    </tr>\n",
       "    <tr>\n",
       "      <th>499</th>\n",
       "      <td>497</td>\n",
       "      <td>5.280566</td>\n",
       "      <td>88.50</td>\n",
       "      <td>99.66</td>\n",
       "    </tr>\n",
       "    <tr>\n",
       "      <th>500</th>\n",
       "      <td>498</td>\n",
       "      <td>5.277267</td>\n",
       "      <td>88.75</td>\n",
       "      <td>99.56</td>\n",
       "    </tr>\n",
       "    <tr>\n",
       "      <th>501</th>\n",
       "      <td>499</td>\n",
       "      <td>5.278131</td>\n",
       "      <td>88.18</td>\n",
       "      <td>99.53</td>\n",
       "    </tr>\n",
       "    <tr>\n",
       "      <th>502</th>\n",
       "      <td>500</td>\n",
       "      <td>5.276162</td>\n",
       "      <td>88.27</td>\n",
       "      <td>99.62</td>\n",
       "    </tr>\n",
       "  </tbody>\n",
       "</table>\n",
       "<p>503 rows × 4 columns</p>\n",
       "</div>"
      ],
      "text/plain": [
       "     epoch  train_loss  test_acc@1  test_acc@5\n",
       "0        1    6.307760       39.39       88.54\n",
       "1        2    5.996507       42.90       90.85\n",
       "2        3    5.888399       45.22       91.65\n",
       "3        4    5.818645       49.18       93.32\n",
       "4        5    5.765002       51.01       93.87\n",
       "..     ...         ...         ...         ...\n",
       "498    496    5.276565       88.07       99.56\n",
       "499    497    5.280566       88.50       99.66\n",
       "500    498    5.277267       88.75       99.56\n",
       "501    499    5.278131       88.18       99.53\n",
       "502    500    5.276162       88.27       99.62\n",
       "\n",
       "[503 rows x 4 columns]"
      ]
     },
     "execution_count": 82,
     "metadata": {},
     "output_type": "execute_result"
    }
   ],
   "source": [
    "pd.concat([x, y, z], ignore_index=True)"
   ]
  },
  {
   "cell_type": "code",
   "execution_count": null,
   "id": "expanded-bristol",
   "metadata": {},
   "outputs": [],
   "source": []
  }
 ],
 "metadata": {
  "kernelspec": {
   "display_name": "Python 3",
   "language": "python",
   "name": "python3"
  },
  "language_info": {
   "codemirror_mode": {
    "name": "ipython",
    "version": 3
   },
   "file_extension": ".py",
   "mimetype": "text/x-python",
   "name": "python",
   "nbconvert_exporter": "python",
   "pygments_lexer": "ipython3",
   "version": "3.8.5"
  }
 },
 "nbformat": 4,
 "nbformat_minor": 5
}
